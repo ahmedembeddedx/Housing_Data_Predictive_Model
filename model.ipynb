{
 "cells": [
  {
   "cell_type": "markdown",
   "id": "ea6d3372",
   "metadata": {},
   "source": [
    "### Project Name: *Housing Data Analysis: Prediction, Segmentation, and Trends*\t\t\t\n",
    "### Authors\n",
    "- [Ahmed Abdullah](https://github.com/ahmedembeddedx)\n",
    "- [Zaeem ul Islam](https://github.com/mightyflavor)"
   ]
  },
  {
   "cell_type": "markdown",
   "id": "d05aa5f5",
   "metadata": {},
   "source": [
    "# 🏡 **Unlocking the Secrets of Real Estate: A Journey into Homeownership and Beyond!**\n",
    "\n",
    "![Home Image](https://i.ibb.co/QCjZjh6/Apartment-Square-Karachi-Gulshan-e-Iqbal.jpg)\n"
   ]
  },
  {
   "cell_type": "markdown",
   "id": "2a6226cd",
   "metadata": {},
   "source": [
    "# Machine Learning Modeling and Evaluation"
   ]
  },
  {
   "cell_type": "markdown",
   "id": "5385dc31",
   "metadata": {},
   "source": [
    "## 1 *Importing Necessary Libraries*"
   ]
  },
  {
   "cell_type": "code",
   "execution_count": 29,
   "id": "953aa90c",
   "metadata": {},
   "outputs": [],
   "source": [
    "import pandas as pd\n",
    "from sklearn.model_selection import train_test_split\n",
    "from sklearn.ensemble import GradientBoostingRegressor\n",
    "from sklearn.metrics import mean_squared_error\n",
    "import matplotlib.pyplot as plt\n",
    "from sklearn.metrics import r2_score, mean_squared_error, mean_absolute_error\n",
    "import numpy as np\n",
    "import tkinter as tk\n",
    "from tkinter import ttk"
   ]
  },
  {
   "cell_type": "markdown",
   "id": "f931534b",
   "metadata": {},
   "source": [
    "## 2 *Reading Preprocessed Data ready to model*"
   ]
  },
  {
   "cell_type": "code",
   "execution_count": 30,
   "id": "22e22192",
   "metadata": {},
   "outputs": [],
   "source": [
    "data=pd.read_csv(\"cleaned_data.csv\")"
   ]
  },
  {
   "cell_type": "markdown",
   "id": "0ea4b950",
   "metadata": {},
   "source": [
    "## 3 *Applying Gaussian Boosting Regressor* "
   ]
  },
  {
   "cell_type": "code",
   "execution_count": 31,
   "id": "b89eff29",
   "metadata": {},
   "outputs": [],
   "source": [
    "# Our targeted variable\n",
    "X = data.drop('price', axis=1)\n",
    "y = data['price']\n",
    "\n",
    "# Split the dataset into training and testing sets\n",
    "X_train, X_test, y_train, y_test = train_test_split(X, y, test_size=0.2, random_state=42)\n",
    "\n",
    "# Create a Gradient Boosting Regressor model\n",
    "gb_regressor = GradientBoostingRegressor(n_estimators=100, learning_rate=0.1, max_depth=3, random_state=42)\n",
    "\n",
    "# Fit the model to the training data\n",
    "gb_regressor.fit(X_train, y_train)\n",
    "\n",
    "# Make predictions on the test set\n",
    "y_pred = gb_regressor.predict(X_test)"
   ]
  },
  {
   "cell_type": "markdown",
   "id": "ab30ca6b",
   "metadata": {},
   "source": [
    "## 4 *Results* "
   ]
  },
  {
   "cell_type": "code",
   "execution_count": 32,
   "id": "726a86f1",
   "metadata": {
    "scrolled": true
   },
   "outputs": [
    {
     "name": "stdout",
     "output_type": "stream",
     "text": [
      "R^2 Score: 0.8553317718765172\n",
      "Correlation Coefficient (r): 0.9249815520494189\n",
      "Root Mean Squared Error (RMSE): 0.06733343609963005\n",
      "Mean Squared Error (MSE): 0.0045337916169829635\n",
      "Mean Absolute Error (MAE): 0.04924091544847553\n"
     ]
    }
   ],
   "source": [
    "\n",
    "print(f'R^2 Score: {r2_score(y_test, y_pred)}')\n",
    "print(f'Correlation Coefficient (r): {np.corrcoef(y_test, y_pred)[0, 1]}')\n",
    "print(f'Root Mean Squared Error (RMSE): {np.sqrt(mean_squared_error(y_test, y_pred))}')\n",
    "print(f'Mean Squared Error (MSE): {mean_squared_error(y_test, y_pred)}')\n",
    "print(f'Mean Absolute Error (MAE): {mean_absolute_error(y_test, y_pred)}')"
   ]
  },
  {
   "cell_type": "markdown",
   "id": "312d77d6",
   "metadata": {},
   "source": [
    "## 5 *Model Accuracy Evaluation*\n",
    "\n",
    "### R² Score:\n",
    "The R² score is a measure of how well the model's predictions match the actual values. In this case, the R² score is approximately 0.86, indicating that the model explains about 86% of the variance in the target variable. A higher R² score suggests a better fit of the model to the data.\n",
    "\n",
    "### Correlation Coefficient (r):\n",
    "The correlation coefficient measures the strength and direction of a linear relationship between the predicted and actual values. With a correlation coefficient of approximately 0.92, there is a strong positive linear relationship, indicating that as the predicted values increase, the actual values tend to increase as well.\n",
    "\n",
    "### Root Mean Squared Error (RMSE):\n",
    "The RMSE provides an estimate of the average deviation between predicted and actual values. In this case, the RMSE is approximately 0.067, suggesting that, on average, the model's predictions deviate by about 0.067 units from the actual values.\n",
    "\n",
    "### Mean Squared Error (MSE):\n",
    "The MSE is similar to the RMSE but without the square root. It represents the average of the squared differences between predicted and actual values. The MSE is approximately 0.0045, providing another measure of the model's accuracy.\n",
    "\n",
    "### Mean Absolute Error (MAE):\n",
    "The MAE measures the average absolute difference between predicted and actual values. With a value of approximately 0.049, the model's predictions, on average, deviate by about 0.049 units from the actual values."
   ]
  },
  {
   "cell_type": "markdown",
   "id": "11e082d8",
   "metadata": {},
   "source": [
    "## 6 *Conclusion*\n",
    "Overall, the model demonstrates high accuracy, as evidenced by the high R² score, strong correlation coefficient, and relatively low RMSE, MSE, and MAE values. These metrics collectively indicate that the model performs well in predicting the target variable, with a strong linear relationship and minimal prediction errors.\n"
   ]
  },
  {
   "cell_type": "markdown",
   "id": "c91f5b6d",
   "metadata": {},
   "source": [
    "## 7 *Ready to use 'desktop application'*"
   ]
  },
  {
   "cell_type": "code",
   "execution_count": 11,
   "id": "3a96a5d6",
   "metadata": {},
   "outputs": [],
   "source": [
    "def validate_dropdown(value, options):\n",
    "    return value in options\n",
    "\n",
    "def calculate_features():\n",
    "    values = [int(dropdown.get()) for dropdown in dropdowns if dropdown.get().isdigit()]\n",
    "    \n",
    "    if all(validate_dropdown(dropdown.get(), dropdown[\"values\"]) for dropdown in dropdowns):\n",
    "        result_var.set(f\"Sum of selected values: {sum(values)}\")\n",
    "    else:\n",
    "        result_var.set(\"Error: Please check input bounds.\")"
   ]
  },
  {
   "cell_type": "code",
   "execution_count": 12,
   "id": "cddebadf",
   "metadata": {},
   "outputs": [],
   "source": [
    "\n",
    "# Tkinter setup\n",
    "root = tk.Tk()\n",
    "root.title(\"House Price Predicting Model\")\n",
    "root.geometry(\"600x700\")  # Adjusted size\n",
    "root.configure(bg=\"white\") \n",
    "# Title\n",
    "title_label1 = ttk.Label(root, text=\"House Price Prediction Model\", font=(\"Calibri\", 30, \"bold\"))\n",
    "title_label1.grid(row=0, column=0, columnspan=1, pady=8, padx=10)\n",
    "\n",
    "# Styling\n",
    "style = ttk.Style()\n",
    "style.configure(\"TLabel\", foreground=\"black\", background='white', font=(\"Calibri\", 15))  # Increased font size\n",
    "style.configure(\"TButton\", foreground=\"green\", background='white', font=(\"Calibri\", 15, \"bold\"))  # Increased font size\n"
   ]
  },
  {
   "cell_type": "code",
   "execution_count": 13,
   "id": "2f83c79a",
   "metadata": {},
   "outputs": [],
   "source": [
    "# Labels and Dropdown Menus\n",
    "labels = [\"BEDROOMS\", \n",
    "          \"BATHROOMS\", \n",
    "          \"SQ. LIVING\", \n",
    "          \"SQ. LOT\", \n",
    "          \"FLOORS\",\n",
    "          \"CONDITION\", \n",
    "          \"GRADE\", \n",
    "          \"SQ. ABOVE (TOP FLOOR)\", \n",
    "          \"SQ. BELOW (BASEMENT)\",\n",
    "          \"YEAR BUILT\", \n",
    "          \"YEAR RENOVATED\", \n",
    "          \"SQ. LIVING'15\", \n",
    "          \"SQ. LOT'15\"]\n",
    "\n",
    "dropdowns = [ttk.Combobox(root, values=[str(i) for i in range(1, 9)], state=\"readonly\"),\n",
    "             ttk.Combobox(root, values=[str(i) for i in range(1, 9)], state=\"readonly\"),\n",
    "             ttk.Combobox(root, values=[str(i) for i in range(1000, 6001)], state=\"readonly\"),\n",
    "             ttk.Combobox(root, values=[str(i) for i in range(1000, 8001)], state=\"readonly\"),\n",
    "             ttk.Combobox(root, values=[str(i) for i in range(1, 4)], state=\"readonly\"),\n",
    "             ttk.Combobox(root, values=[str(i) for i in range(1, 8)], state=\"readonly\"),\n",
    "             ttk.Combobox(root, values=[str(i) for i in range(4, 11)], state=\"readonly\"),\n",
    "             ttk.Combobox(root, values=[str(i) for i in range(1000, 6001)], state=\"readonly\"),\n",
    "             ttk.Combobox(root, values=[str(i) for i in range(1000, 6001)], state=\"readonly\"),\n",
    "             ttk.Combobox(root, values=[str(i) for i in range(1900, 2021)], state=\"readonly\"),\n",
    "             ttk.Combobox(root, values=[\"Nil\"] + [str(i) for i in range(1950, 2021)], state=\"readonly\"),\n",
    "             ttk.Combobox(root, values=[str(i) for i in range(1000, 6001)], state=\"readonly\"),\n",
    "             ttk.Combobox(root, values=[str(i) for i in range(1000, 6001)], state=\"readonly\")]\n"
   ]
  },
  {
   "cell_type": "code",
   "execution_count": 14,
   "id": "47645a6d",
   "metadata": {},
   "outputs": [],
   "source": [
    "for i, (label, dropdown) in enumerate(zip(labels, dropdowns)):\n",
    "    ttk.Label(root, text=label).grid(row=i+2, column=0, sticky=\"w\", padx=10, pady=5)\n",
    "    dropdown.grid(row=i+2, column=0, sticky=\"e\", padx=10, pady=0)\n",
    "\n",
    "# Button to Validate and Process\n",
    "calculate_button = ttk.Button(root, text=\" PREDICT THE PRICE \", command=calculate_features)\n",
    "calculate_button.grid(row=len(labels)+2, sticky=\"w\", column=0,padx=10, pady=10)  # Removed columnspan\n",
    " \n",
    "# Result display\n",
    "result_var = tk.StringVar()\n",
    "result_label = ttk.Label(root, textvariable=result_var, foreground=\"red\", font=(\"Calibri\", 15))  # Increased font size\n",
    "result_label.grid(row=len(labels)+3, column=0, columnspan=2,sticky=\"w\", pady=10, padx=10)"
   ]
  },
  {
   "cell_type": "code",
   "execution_count": 15,
   "id": "a6e387a8",
   "metadata": {},
   "outputs": [],
   "source": [
    "# Start the Tkinter event loop\n",
    "root.mainloop()"
   ]
  }
 ],
 "metadata": {
  "kernelspec": {
   "display_name": "Python 3",
   "language": "python",
   "name": "python3"
  },
  "language_info": {
   "codemirror_mode": {
    "name": "ipython",
    "version": 3
   },
   "file_extension": ".py",
   "mimetype": "text/x-python",
   "name": "python",
   "nbconvert_exporter": "python",
   "pygments_lexer": "ipython3",
   "version": "3.11.3"
  }
 },
 "nbformat": 4,
 "nbformat_minor": 5
}
